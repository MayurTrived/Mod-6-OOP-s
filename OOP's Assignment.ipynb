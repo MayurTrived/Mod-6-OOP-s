{
 "cells": [
  {
   "cell_type": "raw",
   "id": "14da0fb7-ce1d-4f4f-9c2e-ed19388868d5",
   "metadata": {},
   "source": [
    "1. What is Object-Oriented Programming (OOP)?\n",
    "\n",
    "OOP is a programming paradigm based on the concept of objects that contain data (attributes) and functions (methods). It allows data and behaviors to be grouped into single entities and promotes principles like encapsulation, inheritance, and polymorphism.\n",
    "\n",
    "2. What is a class in OOP?\n",
    "A class is a blueprint or template for creating objects. It defines attributes and methods that describe the behavior and state of objects created from it.\n",
    "\n",
    "3. What is an object in OOP?\n",
    "An object is an instance of a class. It holds actual values for the attributes defined in the class and can perform actions via the class methods.\n",
    "\n",
    "4. What is the difference between abstraction and encapsulation?\n",
    "Abstraction hides complex internal implementation details and shows only essential features.\n",
    "\n",
    "Encapsulation binds data and methods into a single unit and restricts access to internal data by using access modifiers.\n",
    "\n",
    "5. What are dunder methods in Python?\n",
    "Dunder (double underscore) methods like __init__, __str__, __call__, are special methods used to define behavior for built-in operations such as object creation, string representation, and operator overloading.\n",
    "\n",
    "6. Explain the concept of inheritance in OOP.\n",
    "Inheritance allows one class (child) to inherit attributes and methods from another class (parent). This promotes code reuse and establishes relationships between different classes.\n",
    "\n",
    "7. What is polymorphism in OOP?\n",
    "Polymorphism allows methods to have different behaviors depending on the object that calls them, even when using the same interface or method name.\n",
    "\n",
    "8. How is encapsulation achieved in Python?\n",
    "Encapsulation is achieved by declaring variables as private (prefixing with _ or __) and providing getter and setter methods to control access to the internal state of an object.\n",
    "\n",
    "9. What is a constructor in Python?\n",
    "A constructor in Python is a special method called __init__(). It is automatically invoked when an object of a class is instantiated and is used to initialize object attributes.\n",
    "\n",
    "10. What are class and static methods in Python?\n",
    "Class methods use @classmethod decorator and take cls as a first argument to access class-level attributes.\n",
    "\n",
    "Static methods use @staticmethod and don’t take self or cls. They behave like regular functions inside the class.\n",
    "\n",
    "11. What is method overloading in Python?\n",
    "Python does not support traditional method overloading. However, similar behavior can be achieved using default or variable-length arguments.\n",
    "\n",
    "12. What is method overriding in OOP?\n",
    "Method overriding allows a subclass to provide a specific implementation of a method that is already defined in its parent class.\n",
    "\n",
    "13. What is a property decorator in Python?\n",
    "The @property decorator allows a method to be accessed as an attribute, commonly used to control access to private data within a class.\n",
    "\n",
    "14. Why is polymorphism important in OOP?\n",
    "Polymorphism increases flexibility and scalability. It allows objects of different classes to be treated as objects of a common superclass, simplifying code maintenance.\n",
    "\n",
    "15. What is an abstract class in Python?\n",
    "An abstract class (defined using the abc module) cannot be instantiated and provides a template for subclasses by defining abstract methods that must be implemented by the subclass.\n",
    "\n",
    "16. What are the advantages of OOP?\n",
    "Modularity and code reuse\n",
    "\n",
    "Easier troubleshooting and maintenance\n",
    "\n",
    "Better security through encapsulation\n",
    "\n",
    "Flexibility via polymorphism\n",
    "\n",
    "Scalability and structured approach to coding\n",
    "\n",
    "17. What is the difference between a class variable and an instance variable?\n",
    "Class variable: Shared by all instances of a class.\n",
    "\n",
    "Instance variable: Unique to each instance and defined within methods like __init__().\n",
    "\n",
    "18. What is multiple inheritance in Python?\n",
    "Multiple inheritance allows a class to inherit attributes and methods from more than one parent class. Python resolves conflicts using Method Resolution Order (MRO).\n",
    "\n",
    "19. Explain the purpose of __str__ and __repr__ methods in Python.\n",
    "__str__: Returns a human-readable string for the end user (e.g., print output).\n",
    "\n",
    "__repr__: Returns a developer-friendly string used for debugging and representing the object formally.\n",
    "\n",
    "20. What is the significance of the super() function in Python?\n",
    "super() allows a subclass to access methods and properties of its parent class, useful for extending the functionality of inherited methods.\n",
    "\n",
    "21. What is the significance of the __del__ method in Python?\n",
    "__del__() is a destructor method automatically called when an object is about to be destroyed. It is used to perform cleanup tasks such as releasing resources.\n",
    "\n",
    "22. What is the difference between @staticmethod and @classmethod in Python?\n",
    "@staticmethod: No access to class or instance; behaves like a regular function.\n",
    "\n",
    "@classmethod: Has access to the class (cls) and can modify class-level attributes.\n",
    "\n",
    "23. How does polymorphism work in Python with inheritance?\n",
    "Polymorphism works when subclasses override parent class methods. The same interface can call different subclass implementations depending on the object’s actual class.\n",
    "\n",
    "24. What is method chaining in Python OOP?\n",
    "Method chaining allows multiple method calls in a single line by having each method return self.\n",
    "Example: obj.method1().method2().method3()\n",
    "\n",
    "25. What is the purpose of the __call__ method in Python?\n",
    "The __call__() method allows an object to be called as if it were a function.\n",
    "Example:\n",
    "obj = MyClass()\n",
    "obj()  # calls obj.__call__()"
   ]
  },
  {
   "cell_type": "raw",
   "id": "0242e821-6158-46b7-94c2-3ae2d4f45250",
   "metadata": {},
   "source": []
  },
  {
   "cell_type": "raw",
   "id": "2e218863-ee20-4e09-9777-16980b2102fb",
   "metadata": {},
   "source": [
    "------------------ PRACTICAL QUESTIONS-----------------"
   ]
  },
  {
   "cell_type": "code",
   "execution_count": 1,
   "id": "771d8ea9-0d2e-4f04-b8ca-e3133a00457e",
   "metadata": {},
   "outputs": [
    {
     "name": "stdout",
     "output_type": "stream",
     "text": [
      "The animal makes a sound.\n",
      "Bark!\n"
     ]
    }
   ],
   "source": [
    "''' 1. Create a parent class Animal with a method speak() that prints a generic message.\n",
    "Create a child class Dog that overrides the speak() method to print \"Bark!\".\n",
    "'''\n",
    "class Animal:\n",
    "    def speak(self):\n",
    "        print(\"The animal makes a sound.\")\n",
    "\n",
    "\n",
    "class Dog(Animal):\n",
    "    def speak(self):\n",
    "        print(\"Bark!\")\n",
    "\n",
    "\n",
    "a = Animal()\n",
    "a.speak()  \n",
    "\n",
    "d = Dog()\n",
    "d.speak()  \n"
   ]
  },
  {
   "cell_type": "code",
   "execution_count": 3,
   "id": "8036e4ca-b17b-4d70-a731-38eb8f06d57c",
   "metadata": {},
   "outputs": [
    {
     "name": "stdout",
     "output_type": "stream",
     "text": [
      "Area of Circle: 78.54\n",
      "Area of Rectangle: 24\n"
     ]
    }
   ],
   "source": [
    "'''\n",
    "2. Write a program to create an abstract class Shape with a method area(). \n",
    "Derive classes Circle and Rectangle from it and implement the area() method in both.\n",
    "'''\n",
    "from abc import ABC, abstractmethod\n",
    "import math\n",
    "\n",
    "class Shape(ABC):\n",
    "    \n",
    "    def area(self):\n",
    "        pass\n",
    "\n",
    "\n",
    "class Circle(Shape):\n",
    "    def __init__(self, radius):\n",
    "        self.radius = radius\n",
    "\n",
    "    def area(self):\n",
    "        return math.pi * self.radius ** 2\n",
    "\n",
    "\n",
    "class Rectangle(Shape):\n",
    "    def __init__(self, length, width):\n",
    "        self.length = length\n",
    "        self.width = width\n",
    "\n",
    "    def area(self):\n",
    "        return self.length * self.width\n",
    "\n",
    "\n",
    "circle = Circle(5)\n",
    "rectangle = Rectangle(4, 6)\n",
    "\n",
    "print(f\"Area of Circle: {circle.area():.2f}\")     \n",
    "print(f\"Area of Rectangle: {rectangle.area()}\")   \n"
   ]
  },
  {
   "cell_type": "code",
   "execution_count": 4,
   "id": "49f842e6-c7b3-4d66-ad0b-6c590e24a0f8",
   "metadata": {},
   "outputs": [
    {
     "name": "stdout",
     "output_type": "stream",
     "text": [
      "Type: Four-Wheeler\n",
      "Brand: Tesla\n",
      "Battery: 85 kWh\n"
     ]
    }
   ],
   "source": [
    "'''\n",
    "3. Implement a multi-level inheritance scenario where a class Vehicle has an attribute type. \n",
    "Derive a class Car and further derive a class ElectricCar that adds a battery attribute.\n",
    "'''\n",
    "\n",
    "class Vehicle:\n",
    "    def __init__(self, vehicle_type):\n",
    "        self.type = vehicle_type\n",
    "\n",
    "\n",
    "class Car(Vehicle):\n",
    "    def __init__(self, vehicle_type, brand):\n",
    "        super().__init__(vehicle_type)\n",
    "        self.brand = brand\n",
    "\n",
    "\n",
    "class ElectricCar(Car):\n",
    "    def __init__(self, vehicle_type, brand, battery_capacity):\n",
    "        super().__init__(vehicle_type, brand)\n",
    "        self.battery = battery_capacity\n",
    "\n",
    "    def display_info(self):\n",
    "        print(f\"Type: {self.type}\")\n",
    "        print(f\"Brand: {self.brand}\")\n",
    "        print(f\"Battery: {self.battery} kWh\")\n",
    "\n",
    "\n",
    "e_car = ElectricCar(\"Four-Wheeler\", \"Tesla\", 85)\n",
    "e_car.display_info()\n"
   ]
  },
  {
   "cell_type": "code",
   "execution_count": 5,
   "id": "02a66d74-b137-4d61-b610-8e244ce05513",
   "metadata": {},
   "outputs": [
    {
     "name": "stdout",
     "output_type": "stream",
     "text": [
      "Sparrow flies high in the sky.\n",
      "Penguins can't fly, they swim instead.\n"
     ]
    }
   ],
   "source": [
    "'''\n",
    "4. Demonstrate polymorphism by creating a base class Bird with a method fly(). \n",
    "Create two derived classes Sparrow and Penguin that override the fly() method.\n",
    "'''\n",
    "\n",
    "class Bird:\n",
    "    def fly(self):\n",
    "        print(\"Bird is flying...\")\n",
    "\n",
    "\n",
    "class Sparrow(Bird):\n",
    "    def fly(self):\n",
    "        print(\"Sparrow flies high in the sky.\")\n",
    "\n",
    "\n",
    "class Penguin(Bird):\n",
    "    def fly(self):\n",
    "        print(\"Penguins can't fly, they swim instead.\")\n",
    "\n",
    "\n",
    "def bird_fly(bird):\n",
    "    bird.fly()\n",
    "\n",
    "\n",
    "b1 = Sparrow()\n",
    "b2 = Penguin()\n",
    "\n",
    "bird_fly(b1) \n",
    "bird_fly(b2) \n"
   ]
  },
  {
   "cell_type": "code",
   "execution_count": 6,
   "id": "ed43f28a-d868-49c2-b267-7301d9a3ee80",
   "metadata": {},
   "outputs": [
    {
     "name": "stdout",
     "output_type": "stream",
     "text": [
      "Current Balance: ₹1000\n",
      "Deposited ₹500.\n",
      "Withdrew ₹300.\n",
      "Current Balance: ₹1200\n"
     ]
    }
   ],
   "source": [
    "'''\n",
    "5. Write a program to demonstrate encapsulation by creating a class \n",
    "BankAccount with private attributes balance and methods to deposit, withdraw, and check balance\n",
    "'''\n",
    "\n",
    "class BankAccount:\n",
    "    def __init__(self, initial_balance=0):\n",
    "        self.__balance = initial_balance  \n",
    "\n",
    "    \n",
    "    def deposit(self, amount):\n",
    "        if amount > 0:\n",
    "            self.__balance += amount\n",
    "            print(f\"Deposited ₹{amount}.\")\n",
    "        else:\n",
    "            print(\"Deposit amount must be positive.\")\n",
    "\n",
    "   \n",
    "    def withdraw(self, amount):\n",
    "        if 0 < amount <= self.__balance:\n",
    "            self.__balance -= amount\n",
    "            print(f\"Withdrew ₹{amount}.\")\n",
    "        else:\n",
    "            print(\"Insufficient balance or invalid amount.\")\n",
    "\n",
    "    \n",
    "    def check_balance(self):\n",
    "        print(f\"Current Balance: ₹{self.__balance}\")\n",
    "\n",
    "\n",
    "account = BankAccount(1000)\n",
    "account.check_balance()     \n",
    "account.deposit(500)        \n",
    "account.withdraw(300)       \n",
    "account.check_balance()     \n",
    "\n",
    "\n"
   ]
  },
  {
   "cell_type": "code",
   "execution_count": 7,
   "id": "af106b69-587e-44e3-b83f-8a4bb94b19e7",
   "metadata": {},
   "outputs": [
    {
     "name": "stdout",
     "output_type": "stream",
     "text": [
      "Strumming the guitar strings.\n",
      "Playing the piano keys.\n"
     ]
    }
   ],
   "source": [
    "'''\n",
    "6. Demonstrate runtime polymorphism using a method play() in a base class Instrument. \n",
    "Derive classes Guitar and Piano that implement their own version of play().\n",
    "'''\n",
    "\n",
    "class Instrument:\n",
    "    def play(self):\n",
    "        print(\"Instrument is being played.\")\n",
    "\n",
    "class Guitar(Instrument):\n",
    "    def play(self):\n",
    "        print(\"Strumming the guitar strings.\")\n",
    "\n",
    "class Piano(Instrument):\n",
    "    def play(self):\n",
    "        print(\"Playing the piano keys.\")\n",
    "\n",
    "def start_playing(instrument):\n",
    "    instrument.play()\n",
    "\n",
    "guitar = Guitar()\n",
    "piano = Piano()\n",
    "\n",
    "start_playing(guitar)  \n",
    "start_playing(piano)   \n"
   ]
  },
  {
   "cell_type": "code",
   "execution_count": 13,
   "id": "d3135743-26b7-43e4-9f1b-444aa38b56b4",
   "metadata": {},
   "outputs": [
    {
     "name": "stdout",
     "output_type": "stream",
     "text": [
      "Addition: 15\n",
      "Subtraction: 5\n"
     ]
    }
   ],
   "source": [
    "'''\n",
    "7. Create a class MathOperations with a class method add_numbers() to add two numbers and\n",
    "a static method subtract_numbers() to subtract two numbers.\n",
    "'''\n",
    "class MathOperations:\n",
    "    @classmethod\n",
    "    def add_numbers(cls, a, b):\n",
    "        return a + b\n",
    "\n",
    "    @staticmethod\n",
    "    def subtract_numbers(a, b):\n",
    "        return a - b\n",
    "\n",
    "\n",
    "print(\"Addition:\", MathOperations.add_numbers(10, 5))       \n",
    "print(\"Subtraction:\", MathOperations.subtract_numbers(10, 5))  \n",
    "\n"
   ]
  },
  {
   "cell_type": "code",
   "execution_count": 14,
   "id": "e295865f-8f5f-4ca2-9bf6-91bfdebc9021",
   "metadata": {},
   "outputs": [
    {
     "name": "stdout",
     "output_type": "stream",
     "text": [
      "Total persons created: 3\n"
     ]
    }
   ],
   "source": [
    "'''\n",
    "8. Implement a class Person with a class method to count the total number of persons created.\n",
    "'''\n",
    "class Person:\n",
    "    count = 0  \n",
    "\n",
    "    def __init__(self, name):\n",
    "        self.name = name\n",
    "        Person.count += 1\n",
    "\n",
    "    @classmethod\n",
    "    def total_persons(cls):\n",
    "        print(f\"Total persons created: {cls.count}\")\n",
    "\n",
    "p1 = Person(\"Alice\")\n",
    "p2 = Person(\"Bob\")\n",
    "p3 = Person(\"Charlie\")\n",
    "\n",
    "Person.total_persons()  \n"
   ]
  },
  {
   "cell_type": "code",
   "execution_count": 15,
   "id": "af9e4516-9ae5-40fc-811d-f6784c574540",
   "metadata": {},
   "outputs": [
    {
     "name": "stdout",
     "output_type": "stream",
     "text": [
      "3/4\n",
      "7/2\n"
     ]
    }
   ],
   "source": [
    "'''\n",
    "9. Write a class Fraction with attributes numerator and denominator. \n",
    "Override the str method to display the fraction as \"numerator/denominator\".\n",
    "'''\n",
    "class Fraction:\n",
    "    def __init__(self, numerator, denominator):\n",
    "        self.numerator = numerator\n",
    "        self.denominator = denominator\n",
    "\n",
    "    def __str__(self):\n",
    "        return f\"{self.numerator}/{self.denominator}\"\n",
    "\n",
    "f1 = Fraction(3, 4)\n",
    "f2 = Fraction(7, 2)\n",
    "\n",
    "print(f1)  \n",
    "print(f2)  \n"
   ]
  },
  {
   "cell_type": "code",
   "execution_count": 16,
   "id": "9950e6f2-1555-47c9-93d3-8538e768b502",
   "metadata": {},
   "outputs": [
    {
     "name": "stdout",
     "output_type": "stream",
     "text": [
      "Vector(6, 4)\n"
     ]
    }
   ],
   "source": [
    "'''\n",
    "10. Demonstrate operator overloading by creating a class Vector and overriding the add method to add two vectors.\n",
    "'''\n",
    "class Vector:\n",
    "    def __init__(self, x, y):\n",
    "        self.x = x\n",
    "        self.y = y\n",
    "\n",
    "    def __add__(self, other):\n",
    "        return Vector(self.x + other.x, self.y + other.y)\n",
    "\n",
    "    def __str__(self):\n",
    "        return f\"Vector({self.x}, {self.y})\"\n",
    "\n",
    "v1 = Vector(2, 3)\n",
    "v2 = Vector(4, 1)\n",
    "\n",
    "v3 = v1 + v2  \n",
    "print(v3)    \n"
   ]
  },
  {
   "cell_type": "code",
   "execution_count": 17,
   "id": "a6cd3519-04cd-47f3-a94d-6f73501f75c5",
   "metadata": {},
   "outputs": [
    {
     "name": "stdout",
     "output_type": "stream",
     "text": [
      "Hello, my name is Mayur and I am 21 years old.\n"
     ]
    }
   ],
   "source": [
    "'''\n",
    "11. Create a class Person with attributes name and age. Add a method greet() that prints \"Hello, my name is {name} and I am {age} years old.\"\n",
    "'''\n",
    "class Person:\n",
    "    def __init__(self, name, age):\n",
    "        self.name = name\n",
    "        self.age = age\n",
    "\n",
    "    def greet(self):\n",
    "        print(f\"Hello, my name is {self.name} and I am {self.age} years old.\")\n",
    "\n",
    "p1 = Person(\"Mayur\", 21)\n",
    "p1.greet()\n"
   ]
  },
  {
   "cell_type": "code",
   "execution_count": 18,
   "id": "9aad5b36-657c-4567-8c14-3add93b846c5",
   "metadata": {},
   "outputs": [
    {
     "name": "stdout",
     "output_type": "stream",
     "text": [
      "Mayur's average grade is: 87.5\n"
     ]
    }
   ],
   "source": [
    "'''\n",
    "12. Implement a class Student with attributes name and grades. Create a method average_grade() to compute the average of the grades.\n",
    "'''\n",
    "class Student:\n",
    "    def __init__(self, name, grades):\n",
    "        self.name = name\n",
    "        self.grades = grades  \n",
    "\n",
    "    def average_grade(self):\n",
    "        return sum(self.grades) / len(self.grades)\n",
    "\n",
    "s1 = Student(\"Mayur\", [80, 90, 85, 95])\n",
    "print(f\"{s1.name}'s average grade is: {s1.average_grade()}\")\n",
    "\n"
   ]
  },
  {
   "cell_type": "code",
   "execution_count": 19,
   "id": "9a6ba6d8-efb1-4203-aedd-d9c11425e619",
   "metadata": {},
   "outputs": [
    {
     "name": "stdout",
     "output_type": "stream",
     "text": [
      "Area of rectangle: 15\n"
     ]
    }
   ],
   "source": [
    "'''\n",
    "13. Create a class Rectangle with methods set_dimensions() to set the dimensions and area() to calculate the area.\n",
    "'''\n",
    "class Rectangle:\n",
    "    def __init__(self):\n",
    "        self.length = 0\n",
    "        self.width = 0\n",
    "\n",
    "    def set_dimensions(self, length, width):\n",
    "        self.length = length\n",
    "        self.width = width\n",
    "\n",
    "    def area(self):\n",
    "        return self.length * self.width\n",
    "\n",
    "rect = Rectangle()\n",
    "rect.set_dimensions(5, 3)\n",
    "print(\"Area of rectangle:\", rect.area())\n"
   ]
  },
  {
   "cell_type": "code",
   "execution_count": 20,
   "id": "29f157fb-c14b-4c8b-b4c4-50433ed56bf5",
   "metadata": {},
   "outputs": [
    {
     "name": "stdout",
     "output_type": "stream",
     "text": [
      "John's Salary: ₹1000\n",
      "Sara's Salary with Bonus: ₹1700\n"
     ]
    }
   ],
   "source": [
    "'''\n",
    "14. Create a class Employee with a method calculate_salary() that computes the salary based on hours worked and hourly rate. Create a derived class Manager that adds a bonus to the salary.\n",
    "'''\n",
    "class Employee:\n",
    "    def __init__(self, name, hours_worked, hourly_rate):\n",
    "        self.name = name\n",
    "        self.hours_worked = hours_worked\n",
    "        self.hourly_rate = hourly_rate\n",
    "\n",
    "    def calculate_salary(self):\n",
    "        return self.hours_worked * self.hourly_rate\n",
    "\n",
    "class Manager(Employee):\n",
    "    def __init__(self, name, hours_worked, hourly_rate, bonus):\n",
    "        super().__init__(name, hours_worked, hourly_rate)\n",
    "        self.bonus = bonus\n",
    "\n",
    "    def calculate_salary(self):\n",
    "        return super().calculate_salary() + self.bonus\n",
    "\n",
    "emp = Employee(\"John\", 40, 25)\n",
    "mgr = Manager(\"Sara\", 40, 30, 500)\n",
    "\n",
    "print(f\"{emp.name}'s Salary: ₹{emp.calculate_salary()}\")\n",
    "print(f\"{mgr.name}'s Salary with Bonus: ₹{mgr.calculate_salary()}\")\n"
   ]
  },
  {
   "cell_type": "code",
   "execution_count": 21,
   "id": "cc6b88cf-6275-4084-9102-975ebeec3216",
   "metadata": {},
   "outputs": [
    {
     "name": "stdout",
     "output_type": "stream",
     "text": [
      "Total price of Laptop: ₹100000\n"
     ]
    }
   ],
   "source": [
    "'''\n",
    "15. Create a class Product with attributes name, price, and quantity. Implement a method total_price() that\n",
    "calculates the total price of the product.\n",
    "'''\n",
    "class Product:\n",
    "    def __init__(self, name, price, quantity):\n",
    "        self.name = name\n",
    "        self.price = price\n",
    "        self.quantity = quantity\n",
    "\n",
    "    def total_price(self):\n",
    "        return self.price * self.quantity\n",
    "\n",
    "p = Product(\"Laptop\", 50000, 2)\n",
    "print(f\"Total price of {p.name}: ₹{p.total_price()}\")\n"
   ]
  },
  {
   "cell_type": "code",
   "execution_count": 22,
   "id": "cd0dc27d-2fab-4818-a793-d9be42490769",
   "metadata": {},
   "outputs": [
    {
     "name": "stdout",
     "output_type": "stream",
     "text": [
      "Cow says: Moo\n",
      "Sheep says: Baa\n"
     ]
    }
   ],
   "source": [
    "'''\n",
    "16. Create a class Animal with an abstract method sound(). Create two derived classes Cow and Sheep that\n",
    "implement the sound() method.\n",
    "'''\n",
    "from abc import ABC, abstractmethod\n",
    "\n",
    "class Animal(ABC):\n",
    "    @abstractmethod\n",
    "    def sound(self):\n",
    "        pass\n",
    "\n",
    "class Cow(Animal):\n",
    "    def sound(self):\n",
    "        return \"Moo\"\n",
    "\n",
    "class Sheep(Animal):\n",
    "    def sound(self):\n",
    "        return \"Baa\"\n",
    "\n",
    "cow = Cow()\n",
    "sheep = Sheep()\n",
    "\n",
    "print(\"Cow says:\", cow.sound())\n",
    "print(\"Sheep says:\", sheep.sound())\n"
   ]
  },
  {
   "cell_type": "code",
   "execution_count": 23,
   "id": "d2ceca7a-a266-4581-b554-6aadfffd50a1",
   "metadata": {},
   "outputs": [
    {
     "name": "stdout",
     "output_type": "stream",
     "text": [
      "'1984' by George Orwell (1949)\n"
     ]
    }
   ],
   "source": [
    "'''\n",
    "17. Create a class Book with attributes title, author, and year_published. Add a method get_book_info() that\n",
    "returns a formatted string with the book's details.\n",
    "'''\n",
    "class Book:\n",
    "    def __init__(self, title, author, year_published):\n",
    "        self.title = title\n",
    "        self.author = author\n",
    "        self.year_published = year_published\n",
    "\n",
    "    def get_book_info(self):\n",
    "        return f\"'{self.title}' by {self.author} ({self.year_published})\"\n",
    "\n",
    "book = Book(\"1984\", \"George Orwell\", 1949)\n",
    "print(book.get_book_info())\n"
   ]
  },
  {
   "cell_type": "code",
   "execution_count": 24,
   "id": "4f0d080a-cd1f-4fee-814c-16f83967537b",
   "metadata": {},
   "outputs": [
    {
     "name": "stdout",
     "output_type": "stream",
     "text": [
      "Mansion at 123 Rich Street with 12 rooms costs ₹10000000\n"
     ]
    }
   ],
   "source": [
    "'''\n",
    "18. Create a class House with attributes address and price. Create a derived class Mansion that adds an\n",
    "attribute number_of_rooms.\n",
    "'''\n",
    "class House:\n",
    "    def __init__(self, address, price):\n",
    "        self.address = address\n",
    "        self.price = price\n",
    "\n",
    "class Mansion(House):\n",
    "    def __init__(self, address, price, number_of_rooms):\n",
    "        super().__init__(address, price)\n",
    "        self.number_of_rooms = number_of_rooms\n",
    "\n",
    "m = Mansion(\"123 Rich Street\", 10000000, 12)\n",
    "print(f\"Mansion at {m.address} with {m.number_of_rooms} rooms costs ₹{m.price}\")\n"
   ]
  },
  {
   "cell_type": "code",
   "execution_count": null,
   "id": "f49ce5cd-a393-498b-9b10-7ca8b9843d9d",
   "metadata": {},
   "outputs": [],
   "source": []
  }
 ],
 "metadata": {
  "kernelspec": {
   "display_name": "Python 3 (ipykernel)",
   "language": "python",
   "name": "python3"
  },
  "language_info": {
   "codemirror_mode": {
    "name": "ipython",
    "version": 3
   },
   "file_extension": ".py",
   "mimetype": "text/x-python",
   "name": "python",
   "nbconvert_exporter": "python",
   "pygments_lexer": "ipython3",
   "version": "3.13.5"
  }
 },
 "nbformat": 4,
 "nbformat_minor": 5
}
